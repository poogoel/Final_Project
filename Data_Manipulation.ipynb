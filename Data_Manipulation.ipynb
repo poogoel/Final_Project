{
 "cells": [
  {
   "cell_type": "code",
   "execution_count": 14,
   "metadata": {},
   "outputs": [],
   "source": [
    "# Add dependencies\n",
    "import glob\n",
    "import pandas as pd"
   ]
  },
  {
   "cell_type": "code",
   "execution_count": 15,
   "metadata": {},
   "outputs": [],
   "source": [
    "# get data file names\n",
    "path =r'player'\n",
    "filenames = glob.glob(path + \"/*.csv\")"
   ]
  },
  {
   "cell_type": "code",
   "execution_count": 16,
   "metadata": {},
   "outputs": [
    {
     "name": "stdout",
     "output_type": "stream",
     "text": "player\n"
    }
   ],
   "source": [
    "print(path)"
   ]
  },
  {
   "cell_type": "code",
   "execution_count": 17,
   "metadata": {},
   "outputs": [
    {
     "name": "stdout",
     "output_type": "stream",
     "text": "['player\\\\0_teamstat.csv', 'player\\\\100_teamstat.csv', 'player\\\\101_teamstat.csv', 'player\\\\102_teamstat.csv', 'player\\\\103_teamstat.csv', 'player\\\\104_teamstat.csv', 'player\\\\105_teamstat.csv', 'player\\\\106_teamstat.csv', 'player\\\\107_teamstat.csv', 'player\\\\108_teamstat.csv', 'player\\\\109_teamstat.csv', 'player\\\\10_teamstat.csv', 'player\\\\110_teamstat.csv', 'player\\\\111_teamstat.csv', 'player\\\\112_teamstat.csv', 'player\\\\113_teamstat.csv', 'player\\\\114_teamstat.csv', 'player\\\\115_teamstat.csv', 'player\\\\116_teamstat.csv', 'player\\\\117_teamstat.csv', 'player\\\\118_teamstat.csv', 'player\\\\119_teamstat.csv', 'player\\\\11_teamstat.csv', 'player\\\\120_teamstat.csv', 'player\\\\121_teamstat.csv', 'player\\\\122_teamstat.csv', 'player\\\\123_teamstat.csv', 'player\\\\124_teamstat.csv', 'player\\\\125_teamstat.csv', 'player\\\\126_teamstat.csv', 'player\\\\127_teamstat.csv', 'player\\\\128_teamstat.csv', 'player\\\\129_teamstat.csv', 'player\\\\12_teamstat.csv', 'player\\\\13_teamstat.csv', 'player\\\\14_teamstat.csv', 'player\\\\15_teamstat.csv', 'player\\\\16_teamstat.csv', 'player\\\\17_teamstat.csv', 'player\\\\18_teamstat.csv', 'player\\\\19_teamstat.csv', 'player\\\\1_teamstat.csv', 'player\\\\20_teamstat.csv', 'player\\\\21_teamstat.csv', 'player\\\\22_teamstat.csv', 'player\\\\23_teamstat.csv', 'player\\\\24_teamstat.csv', 'player\\\\25_teamstat.csv', 'player\\\\26_teamstat.csv', 'player\\\\27_teamstat.csv', 'player\\\\28_teamstat.csv', 'player\\\\29_teamstat.csv', 'player\\\\2_teamstat.csv', 'player\\\\30_teamstat.csv', 'player\\\\31_teamstat.csv', 'player\\\\32_teamstat.csv', 'player\\\\33_teamstat.csv', 'player\\\\34_teamstat.csv', 'player\\\\35_teamstat.csv', 'player\\\\36_teamstat.csv', 'player\\\\37_teamstat.csv', 'player\\\\38_teamstat.csv', 'player\\\\39_teamstat.csv', 'player\\\\3_teamstat.csv', 'player\\\\40_teamstat.csv', 'player\\\\41_teamstat.csv', 'player\\\\42_teamstat.csv', 'player\\\\43_teamstat.csv', 'player\\\\44_teamstat.csv', 'player\\\\45_teamstat.csv', 'player\\\\46_teamstat.csv', 'player\\\\47_teamstat.csv', 'player\\\\48_teamstat.csv', 'player\\\\49_teamstat.csv', 'player\\\\4_teamstat.csv', 'player\\\\50_teamstat.csv', 'player\\\\51_teamstat.csv', 'player\\\\52_teamstat.csv', 'player\\\\53_teamstat.csv', 'player\\\\54_teamstat.csv', 'player\\\\55_teamstat.csv', 'player\\\\56_teamstat.csv', 'player\\\\57_teamstat.csv', 'player\\\\58_teamstat.csv', 'player\\\\59_teamstat.csv', 'player\\\\5_teamstat.csv', 'player\\\\60_teamstat.csv', 'player\\\\61_teamstat.csv', 'player\\\\62_teamstat.csv', 'player\\\\63_teamstat.csv', 'player\\\\64_teamstat.csv', 'player\\\\65_teamstat.csv', 'player\\\\66_teamstat.csv', 'player\\\\67_teamstat.csv', 'player\\\\68_teamstat.csv', 'player\\\\69_teamstat.csv', 'player\\\\6_teamstat.csv', 'player\\\\70_teamstat.csv', 'player\\\\71_teamstat.csv', 'player\\\\72_teamstat.csv', 'player\\\\73_teamstat.csv', 'player\\\\74_teamstat.csv', 'player\\\\75_teamstat.csv', 'player\\\\76_teamstat.csv', 'player\\\\77_teamstat.csv', 'player\\\\78_teamstat.csv', 'player\\\\79_teamstat.csv', 'player\\\\7_teamstat.csv', 'player\\\\80_teamstat.csv', 'player\\\\81_teamstat.csv', 'player\\\\82_teamstat.csv', 'player\\\\83_teamstat.csv', 'player\\\\84_teamstat.csv', 'player\\\\85_teamstat.csv', 'player\\\\86_teamstat.csv', 'player\\\\87_teamstat.csv', 'player\\\\88_teamstat.csv', 'player\\\\89_teamstat.csv', 'player\\\\8_teamstat.csv', 'player\\\\90_teamstat.csv', 'player\\\\91_teamstat.csv', 'player\\\\92_teamstat.csv', 'player\\\\93_teamstat.csv', 'player\\\\94_teamstat.csv', 'player\\\\95_teamstat.csv', 'player\\\\96_teamstat.csv', 'player\\\\97_teamstat.csv', 'player\\\\98_teamstat.csv', 'player\\\\99_teamstat.csv', 'player\\\\9_teamstat.csv']\n"
    }
   ],
   "source": [
    "print(filenames)"
   ]
  },
  {
   "cell_type": "code",
   "execution_count": 18,
   "metadata": {},
   "outputs": [],
   "source": [
    "dfs = []\n",
    "for filename in filenames:\n",
    "    dfs.append(pd.read_csv(filename))\n",
    "\n",
    "# Concatenate all data into one DataFrame\n",
    "big_frame = pd.concat(dfs, ignore_index=True)"
   ]
  },
  {
   "cell_type": "code",
   "execution_count": 19,
   "metadata": {},
   "outputs": [
    {
     "data": {
      "text/plain": "Unnamed: 0       4649\nAVG_Per_Comp      695\nAVG_Per_Rec      2152\nAVG_Per_Rush     1802\nCMP               695\nCMP%              695\nINT               695\nLNG              4649\nName             4649\nPassing_ATT       695\nPassing_YDS       695\nREC              2152\nRTG               695\nRecieving_YDS    2152\nRushing_ATT      1802\nRushing_YDS      1802\nSACK              695\nSYL               695\nTD               4649\ndtype: int64"
     },
     "execution_count": 19,
     "metadata": {},
     "output_type": "execute_result"
    }
   ],
   "source": [
    "big_frame.count()"
   ]
  },
  {
   "cell_type": "code",
   "execution_count": 20,
   "metadata": {},
   "outputs": [
    {
     "data": {
      "text/html": "<div>\n<style scoped>\n    .dataframe tbody tr th:only-of-type {\n        vertical-align: middle;\n    }\n\n    .dataframe tbody tr th {\n        vertical-align: top;\n    }\n\n    .dataframe thead th {\n        text-align: right;\n    }\n</style>\n<table border=\"1\" class=\"dataframe\">\n  <thead>\n    <tr style=\"text-align: right;\">\n      <th></th>\n      <th>Unnamed: 0</th>\n      <th>AVG_Per_Comp</th>\n      <th>AVG_Per_Rec</th>\n      <th>AVG_Per_Rush</th>\n      <th>CMP</th>\n      <th>CMP%</th>\n      <th>INT</th>\n      <th>LNG</th>\n      <th>Name</th>\n      <th>Passing_ATT</th>\n      <th>Passing_YDS</th>\n      <th>REC</th>\n      <th>RTG</th>\n      <th>Recieving_YDS</th>\n      <th>Rushing_ATT</th>\n      <th>Rushing_YDS</th>\n      <th>SACK</th>\n      <th>SYL</th>\n      <th>TD</th>\n    </tr>\n  </thead>\n  <tbody>\n    <tr>\n      <th>0</th>\n      <td>0</td>\n      <td>6.7</td>\n      <td>NaN</td>\n      <td>NaN</td>\n      <td>179.0</td>\n      <td>55.1</td>\n      <td>9.0</td>\n      <td>75</td>\n      <td>Desmond Ridder QB</td>\n      <td>325.0</td>\n      <td>2164.0</td>\n      <td>NaN</td>\n      <td>123.7</td>\n      <td>NaN</td>\n      <td>NaN</td>\n      <td>NaN</td>\n      <td>28.0</td>\n      <td>-197.0</td>\n      <td>18</td>\n    </tr>\n    <tr>\n      <th>1</th>\n      <td>1</td>\n      <td>7.6</td>\n      <td>NaN</td>\n      <td>NaN</td>\n      <td>29.0</td>\n      <td>56.9</td>\n      <td>2.0</td>\n      <td>56</td>\n      <td>Ben Bryant QB</td>\n      <td>51.0</td>\n      <td>388.0</td>\n      <td>NaN</td>\n      <td>119.4</td>\n      <td>NaN</td>\n      <td>NaN</td>\n      <td>NaN</td>\n      <td>7.0</td>\n      <td>-37.0</td>\n      <td>1</td>\n    </tr>\n    <tr>\n      <th>2</th>\n      <td>2</td>\n      <td>6.8</td>\n      <td>NaN</td>\n      <td>NaN</td>\n      <td>208.0</td>\n      <td>55.2</td>\n      <td>11.0</td>\n      <td>75</td>\n      <td>Total</td>\n      <td>377.0</td>\n      <td>2552.0</td>\n      <td>NaN</td>\n      <td>122.8</td>\n      <td>NaN</td>\n      <td>NaN</td>\n      <td>NaN</td>\n      <td>35.0</td>\n      <td>-234.0</td>\n      <td>19</td>\n    </tr>\n    <tr>\n      <th>3</th>\n      <td>0</td>\n      <td>NaN</td>\n      <td>NaN</td>\n      <td>4.8</td>\n      <td>NaN</td>\n      <td>NaN</td>\n      <td>NaN</td>\n      <td>73</td>\n      <td>Michael Warren II RB</td>\n      <td>NaN</td>\n      <td>NaN</td>\n      <td>NaN</td>\n      <td>NaN</td>\n      <td>NaN</td>\n      <td>261.0</td>\n      <td>1265.0</td>\n      <td>NaN</td>\n      <td>NaN</td>\n      <td>14</td>\n    </tr>\n    <tr>\n      <th>4</th>\n      <td>1</td>\n      <td>NaN</td>\n      <td>NaN</td>\n      <td>4.5</td>\n      <td>NaN</td>\n      <td>NaN</td>\n      <td>NaN</td>\n      <td>49</td>\n      <td>Desmond Ridder QB</td>\n      <td>NaN</td>\n      <td>NaN</td>\n      <td>NaN</td>\n      <td>NaN</td>\n      <td>NaN</td>\n      <td>144.0</td>\n      <td>650.0</td>\n      <td>NaN</td>\n      <td>NaN</td>\n      <td>5</td>\n    </tr>\n  </tbody>\n</table>\n</div>",
      "text/plain": "   Unnamed: 0  AVG_Per_Comp  AVG_Per_Rec  AVG_Per_Rush    CMP  CMP%   INT  \\\n0           0           6.7          NaN           NaN  179.0  55.1   9.0   \n1           1           7.6          NaN           NaN   29.0  56.9   2.0   \n2           2           6.8          NaN           NaN  208.0  55.2  11.0   \n3           0           NaN          NaN           4.8    NaN   NaN   NaN   \n4           1           NaN          NaN           4.5    NaN   NaN   NaN   \n\n   LNG                  Name  Passing_ATT  Passing_YDS  REC    RTG  \\\n0   75     Desmond Ridder QB        325.0       2164.0  NaN  123.7   \n1   56         Ben Bryant QB         51.0        388.0  NaN  119.4   \n2   75                 Total        377.0       2552.0  NaN  122.8   \n3   73  Michael Warren II RB          NaN          NaN  NaN    NaN   \n4   49     Desmond Ridder QB          NaN          NaN  NaN    NaN   \n\n   Recieving_YDS  Rushing_ATT  Rushing_YDS  SACK    SYL  TD  \n0            NaN          NaN          NaN  28.0 -197.0  18  \n1            NaN          NaN          NaN   7.0  -37.0   1  \n2            NaN          NaN          NaN  35.0 -234.0  19  \n3            NaN        261.0       1265.0   NaN    NaN  14  \n4            NaN        144.0        650.0   NaN    NaN   5  "
     },
     "execution_count": 20,
     "metadata": {},
     "output_type": "execute_result"
    }
   ],
   "source": [
    "big_frame.head()"
   ]
  },
  {
   "cell_type": "code",
   "execution_count": null,
   "metadata": {},
   "outputs": [],
   "source": [
    "big_frame.count()"
   ]
  },
  {
   "cell_type": "code",
   "execution_count": 22,
   "metadata": {},
   "outputs": [],
   "source": [
    "# Export to csv\n",
    "big_frame.to_csv(\"clean_player_data.csv\")"
   ]
  }
 ],
 "metadata": {
  "kernelspec": {
   "display_name": "Conda [PythonData]",
   "language": "python",
   "name": "pythondata"
  },
  "language_info": {
   "codemirror_mode": {
    "name": "ipython",
    "version": 3
   },
   "file_extension": ".py",
   "mimetype": "text/x-python",
   "name": "python",
   "nbconvert_exporter": "python",
   "pygments_lexer": "ipython3",
   "version": "3.7.4-final"
  }
 },
 "nbformat": 4,
 "nbformat_minor": 2
}